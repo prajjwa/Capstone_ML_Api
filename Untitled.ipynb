{
 "cells": [
  {
   "cell_type": "code",
   "execution_count": null,
   "id": "efd77905",
   "metadata": {},
   "outputs": [
    {
     "name": "stdout",
     "output_type": "stream",
     "text": [
      " * Serving Flask app \"__main__\" (lazy loading)\n",
      " * Environment: production\n",
      "\u001b[31m   WARNING: This is a development server. Do not use it in a production deployment.\u001b[0m\n",
      "\u001b[2m   Use a production WSGI server instead.\u001b[0m\n",
      " * Debug mode: off\n"
     ]
    },
    {
     "name": "stderr",
     "output_type": "stream",
     "text": [
      " * Running on http://127.0.0.1:5000/ (Press CTRL+C to quit)\n",
      "127.0.0.1 - - [08/May/2023 18:53:13] \"\u001b[37mGET / HTTP/1.1\u001b[0m\" 200 -\n",
      "127.0.0.1 - - [08/May/2023 18:53:20] \"\u001b[31m\u001b[1mGET /upload HTTP/1.1\u001b[0m\" 400 -\n"
     ]
    }
   ],
   "source": [
    "from flask import Flask, request\n",
    "from flask_cors import CORS\n",
    "\n",
    "app = Flask(__name__)\n",
    "\n",
    "CORS(app, resources={r\"/*\": {\"origins\": \"*\"}, \"/*\": {\"methods\": [\"*\"]}})\n",
    "\n",
    "@app.route('/')\n",
    "def index():\n",
    "    return \"Hello worldd!\"\n",
    "\n",
    "@app.route('/upload', methods=['POST','GET'])\n",
    "def upload_file():\n",
    "    file = request.files['image']\n",
    "    file.save('/image_api.jpg')\n",
    "    return 'Image saved successfully'\n",
    "\n",
    "\n",
    "app.run()\n"
   ]
  },
  {
   "cell_type": "code",
   "execution_count": 2,
   "id": "dc4e767d",
   "metadata": {},
   "outputs": [
    {
     "name": "stdout",
     "output_type": "stream",
     "text": [
      "Collecting Flask-Cors\n",
      "  Downloading Flask_Cors-3.0.10-py2.py3-none-any.whl (14 kB)\n",
      "Requirement already satisfied: Six in c:\\users\\prajj\\anaconda3\\lib\\site-packages (from Flask-Cors) (1.16.0)\n",
      "Requirement already satisfied: Flask>=0.9 in c:\\users\\prajj\\anaconda3\\lib\\site-packages (from Flask-Cors) (1.1.2)\n",
      "Requirement already satisfied: Werkzeug>=0.15 in c:\\users\\prajj\\anaconda3\\lib\\site-packages (from Flask>=0.9->Flask-Cors) (1.0.1)\n",
      "Requirement already satisfied: Jinja2>=2.10.1 in c:\\users\\prajj\\anaconda3\\lib\\site-packages (from Flask>=0.9->Flask-Cors) (2.11.3)\n",
      "Requirement already satisfied: itsdangerous>=0.24 in c:\\users\\prajj\\anaconda3\\lib\\site-packages (from Flask>=0.9->Flask-Cors) (2.0.1)\n",
      "Requirement already satisfied: click>=5.1 in c:\\users\\prajj\\anaconda3\\lib\\site-packages (from Flask>=0.9->Flask-Cors) (8.0.1)\n",
      "Requirement already satisfied: colorama in c:\\users\\prajj\\anaconda3\\lib\\site-packages (from click>=5.1->Flask>=0.9->Flask-Cors) (0.4.4)\n",
      "Requirement already satisfied: importlib-metadata in c:\\users\\prajj\\anaconda3\\lib\\site-packages (from click>=5.1->Flask>=0.9->Flask-Cors) (3.10.0)\n",
      "Requirement already satisfied: MarkupSafe>=0.23 in c:\\users\\prajj\\anaconda3\\lib\\site-packages (from Jinja2>=2.10.1->Flask>=0.9->Flask-Cors) (1.1.1)\n",
      "Requirement already satisfied: typing-extensions>=3.6.4 in c:\\users\\prajj\\anaconda3\\lib\\site-packages (from importlib-metadata->click>=5.1->Flask>=0.9->Flask-Cors) (4.1.1)\n",
      "Requirement already satisfied: zipp>=0.5 in c:\\users\\prajj\\anaconda3\\lib\\site-packages (from importlib-metadata->click>=5.1->Flask>=0.9->Flask-Cors) (3.5.0)\n",
      "Installing collected packages: Flask-Cors\n",
      "Successfully installed Flask-Cors-3.0.10\n",
      "Note: you may need to restart the kernel to use updated packages.\n"
     ]
    }
   ],
   "source": [
    "pip install Flask-Cors"
   ]
  }
 ],
 "metadata": {
  "kernelspec": {
   "display_name": "Python 3",
   "language": "python",
   "name": "python3"
  },
  "language_info": {
   "codemirror_mode": {
    "name": "ipython",
    "version": 3
   },
   "file_extension": ".py",
   "mimetype": "text/x-python",
   "name": "python",
   "nbconvert_exporter": "python",
   "pygments_lexer": "ipython3",
   "version": "3.7.3"
  }
 },
 "nbformat": 4,
 "nbformat_minor": 5
}
